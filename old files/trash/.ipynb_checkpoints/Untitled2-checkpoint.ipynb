{
 "cells": [
  {
   "cell_type": "code",
   "execution_count": 1,
   "id": "f838b6c2-23f5-46c4-a1db-f1870a1f965b",
   "metadata": {},
   "outputs": [
    {
     "data": {
      "application/vnd.jupyter.widget-view+json": {
       "model_id": "e23b5048d4b447c5aa238ca9f8fa0633",
       "version_major": 2,
       "version_minor": 0
      },
      "text/plain": [
       "tokenizer_config.json:   0%|          | 0.00/685 [00:00<?, ?B/s]"
      ]
     },
     "metadata": {},
     "output_type": "display_data"
    },
    {
     "data": {
      "application/vnd.jupyter.widget-view+json": {
       "model_id": "3a85e0da88b641b6bec8c717c0f80bd7",
       "version_major": 2,
       "version_minor": 0
      },
      "text/plain": [
       "config.json:   0%|          | 0.00/644 [00:00<?, ?B/s]"
      ]
     },
     "metadata": {},
     "output_type": "display_data"
    },
    {
     "data": {
      "application/vnd.jupyter.widget-view+json": {
       "model_id": "569555d7d41c4ed88338031bf995943f",
       "version_major": 2,
       "version_minor": 0
      },
      "text/plain": [
       "vocab.json:   0%|          | 0.00/899k [00:00<?, ?B/s]"
      ]
     },
     "metadata": {},
     "output_type": "display_data"
    },
    {
     "data": {
      "application/vnd.jupyter.widget-view+json": {
       "model_id": "edbd80c928994408866e0441cf78df89",
       "version_major": 2,
       "version_minor": 0
      },
      "text/plain": [
       "merges.txt:   0%|          | 0.00/456k [00:00<?, ?B/s]"
      ]
     },
     "metadata": {},
     "output_type": "display_data"
    },
    {
     "data": {
      "application/vnd.jupyter.widget-view+json": {
       "model_id": "5896ead277be45f88d82e766f24b8503",
       "version_major": 2,
       "version_minor": 0
      },
      "text/plain": [
       "special_tokens_map.json:   0%|          | 0.00/441 [00:00<?, ?B/s]"
      ]
     },
     "metadata": {},
     "output_type": "display_data"
    },
    {
     "name": "stderr",
     "output_type": "stream",
     "text": [
      "/opt/conda/lib/python3.11/site-packages/transformers/tokenization_utils_base.py:1601: FutureWarning: `clean_up_tokenization_spaces` was not set. It will be set to `True` by default. This behavior will be depracted in transformers v4.45, and will be then set to `False` by default. For more details check this issue: https://github.com/huggingface/transformers/issues/31884\n",
      "  warnings.warn(\n"
     ]
    },
    {
     "data": {
      "application/vnd.jupyter.widget-view+json": {
       "model_id": "01f7a6b96d26417daf39183f48951040",
       "version_major": 2,
       "version_minor": 0
      },
      "text/plain": [
       "pytorch_model.bin:   0%|          | 0.00/663M [00:00<?, ?B/s]"
      ]
     },
     "metadata": {},
     "output_type": "display_data"
    },
    {
     "data": {
      "application/vnd.jupyter.widget-view+json": {
       "model_id": "320bfff771204fafb689ce55dc8e0b1c",
       "version_major": 2,
       "version_minor": 0
      },
      "text/plain": [
       "generation_config.json:   0%|          | 0.00/137 [00:00<?, ?B/s]"
      ]
     },
     "metadata": {},
     "output_type": "display_data"
    },
    {
     "data": {
      "application/vnd.jupyter.widget-view+json": {
       "model_id": "15de630a529f464d9807846f58e9c1b7",
       "version_major": 2,
       "version_minor": 0
      },
      "text/plain": [
       "piqa.py:   0%|          | 0.00/5.36k [00:00<?, ?B/s]"
      ]
     },
     "metadata": {},
     "output_type": "display_data"
    },
    {
     "data": {
      "application/vnd.jupyter.widget-view+json": {
       "model_id": "cceb9c780e404b9d8748fc30a88f6a80",
       "version_major": 2,
       "version_minor": 0
      },
      "text/plain": [
       "README.md:   0%|          | 0.00/8.41k [00:00<?, ?B/s]"
      ]
     },
     "metadata": {},
     "output_type": "display_data"
    },
    {
     "name": "stdin",
     "output_type": "stream",
     "text": [
      "The repository for piqa contains custom code which must be executed to correctly load the dataset. You can inspect the repository content at https://hf.co/datasets/piqa.\n",
      "You can avoid this prompt in future by passing the argument `trust_remote_code=True`.\n",
      "\n",
      "Do you wish to run the custom code? [y/N]  y\n"
     ]
    },
    {
     "data": {
      "application/vnd.jupyter.widget-view+json": {
       "model_id": "99fe2f4280cb4887987f72b6e92b65e1",
       "version_major": 2,
       "version_minor": 0
      },
      "text/plain": [
       "Downloading data:   0%|          | 0.00/1.82M [00:00<?, ?B/s]"
      ]
     },
     "metadata": {},
     "output_type": "display_data"
    },
    {
     "data": {
      "application/vnd.jupyter.widget-view+json": {
       "model_id": "5dda8720c488432994e7df06f9883cc2",
       "version_major": 2,
       "version_minor": 0
      },
      "text/plain": [
       "Downloading data:   0%|          | 0.00/815k [00:00<?, ?B/s]"
      ]
     },
     "metadata": {},
     "output_type": "display_data"
    },
    {
     "data": {
      "application/vnd.jupyter.widget-view+json": {
       "model_id": "3bfad8ca06f94154963714e16f6bfbb1",
       "version_major": 2,
       "version_minor": 0
      },
      "text/plain": [
       "Generating train split:   0%|          | 0/16113 [00:00<?, ? examples/s]"
      ]
     },
     "metadata": {},
     "output_type": "display_data"
    },
    {
     "data": {
      "application/vnd.jupyter.widget-view+json": {
       "model_id": "99db3746702f413b81a87e0214e64262",
       "version_major": 2,
       "version_minor": 0
      },
      "text/plain": [
       "Generating test split:   0%|          | 0/3084 [00:00<?, ? examples/s]"
      ]
     },
     "metadata": {},
     "output_type": "display_data"
    },
    {
     "data": {
      "application/vnd.jupyter.widget-view+json": {
       "model_id": "370d3791c9024be09caa1012092d7589",
       "version_major": 2,
       "version_minor": 0
      },
      "text/plain": [
       "Generating validation split:   0%|          | 0/1838 [00:00<?, ? examples/s]"
      ]
     },
     "metadata": {},
     "output_type": "display_data"
    },
    {
     "name": "stdout",
     "output_type": "stream",
     "text": [
      "Initial Memory Usage: {'GPU Memory Allocated (MB)': 1324.785664, 'GPU Memory Reserved (MB)': 1335.885824, 'CPU Memory (MB)': 3094.900736}\n"
     ]
    },
    {
     "name": "stderr",
     "output_type": "stream",
     "text": [
      "Computing sensitivity scores: 100%|██████████| 24/24 [07:34<00:00, 18.94s/it]\n"
     ]
    },
    {
     "name": "stdout",
     "output_type": "stream",
     "text": [
      "Clustering on keys with shape: (5376000, 64)\n"
     ]
    },
    {
     "name": "stderr",
     "output_type": "stream",
     "text": [
      "Evaluating model: 100%|██████████| 100/100 [00:01<00:00, 54.86it/s]\n"
     ]
    },
    {
     "name": "stdout",
     "output_type": "stream",
     "text": [
      "Baseline Accuracy: 0.51, Baseline Time: 1.824387550354004\n"
     ]
    },
    {
     "ename": "RuntimeError",
     "evalue": "The expanded size of the tensor (1024) must match the existing size (64) at non-singleton dimension 1.  Target sizes: [64, 1024].  Tensor sizes: [64]",
     "output_type": "error",
     "traceback": [
      "\u001b[0;31m---------------------------------------------------------------------------\u001b[0m",
      "\u001b[0;31mRuntimeError\u001b[0m                              Traceback (most recent call last)",
      "Cell \u001b[0;32mIn[1], line 238\u001b[0m\n\u001b[1;32m    234\u001b[0m     \u001b[38;5;28mprint\u001b[39m(\u001b[38;5;124mf\u001b[39m\u001b[38;5;124m\"\u001b[39m\u001b[38;5;124mMemory reduction (CPU): \u001b[39m\u001b[38;5;132;01m{\u001b[39;00mmemory_reduction\u001b[38;5;132;01m}\u001b[39;00m\u001b[38;5;124m MB\u001b[39m\u001b[38;5;124m\"\u001b[39m)\n\u001b[1;32m    237\u001b[0m \u001b[38;5;28;01mif\u001b[39;00m \u001b[38;5;18m__name__\u001b[39m \u001b[38;5;241m==\u001b[39m \u001b[38;5;124m\"\u001b[39m\u001b[38;5;124m__main__\u001b[39m\u001b[38;5;124m\"\u001b[39m:\n\u001b[0;32m--> 238\u001b[0m     \u001b[43mmain\u001b[49m\u001b[43m(\u001b[49m\u001b[43m)\u001b[49m\n",
      "Cell \u001b[0;32mIn[1], line 226\u001b[0m, in \u001b[0;36mmain\u001b[0;34m()\u001b[0m\n\u001b[1;32m    223\u001b[0m baseline_accuracy, baseline_time \u001b[38;5;241m=\u001b[39m evaluate_model(model, tokenized_inputs, labels)\n\u001b[1;32m    224\u001b[0m \u001b[38;5;28mprint\u001b[39m(\u001b[38;5;124mf\u001b[39m\u001b[38;5;124m\"\u001b[39m\u001b[38;5;124mBaseline Accuracy: \u001b[39m\u001b[38;5;132;01m{\u001b[39;00mbaseline_accuracy\u001b[38;5;132;01m}\u001b[39;00m\u001b[38;5;124m, Baseline Time: \u001b[39m\u001b[38;5;132;01m{\u001b[39;00mbaseline_time\u001b[38;5;132;01m}\u001b[39;00m\u001b[38;5;124m\"\u001b[39m)\n\u001b[0;32m--> 226\u001b[0m clustered_model \u001b[38;5;241m=\u001b[39m \u001b[43moptimize_kv_cache_with_clustering\u001b[49m\u001b[43m(\u001b[49m\u001b[43mmodel\u001b[49m\u001b[43m,\u001b[49m\u001b[43m \u001b[49m\u001b[43mlow_sensitivity_layers\u001b[49m\u001b[43m,\u001b[49m\u001b[43m \u001b[49m\u001b[43mkmeans\u001b[49m\u001b[38;5;241;43m.\u001b[39;49m\u001b[43mcluster_centers_\u001b[49m\u001b[43m)\u001b[49m\n\u001b[1;32m    228\u001b[0m clustered_accuracy, clustered_time \u001b[38;5;241m=\u001b[39m evaluate_model(clustered_model, tokenized_inputs, labels)\n\u001b[1;32m    229\u001b[0m clustered_memory \u001b[38;5;241m=\u001b[39m report_memory()\n",
      "Cell \u001b[0;32mIn[1], line 171\u001b[0m, in \u001b[0;36moptimize_kv_cache_with_clustering\u001b[0;34m(model, low_sensitivity_layers, cluster_centers)\u001b[0m\n\u001b[1;32m    168\u001b[0m     end_idx \u001b[38;5;241m=\u001b[39m (head \u001b[38;5;241m+\u001b[39m \u001b[38;5;241m1\u001b[39m) \u001b[38;5;241m*\u001b[39m head_dim\n\u001b[1;32m    170\u001b[0m     \u001b[38;5;66;03m# Replace the head weights in K and V projections\u001b[39;00m\n\u001b[0;32m--> 171\u001b[0m     \u001b[43mnew_k_proj\u001b[49m\u001b[43m[\u001b[49m\u001b[43mstart_idx\u001b[49m\u001b[43m:\u001b[49m\u001b[43mend_idx\u001b[49m\u001b[43m]\u001b[49m \u001b[38;5;241m=\u001b[39m torch\u001b[38;5;241m.\u001b[39mtensor(cluster_centers[cluster_id], device\u001b[38;5;241m=\u001b[39mnew_k_proj\u001b[38;5;241m.\u001b[39mdevice)\n\u001b[1;32m    172\u001b[0m     new_v_proj[start_idx:end_idx] \u001b[38;5;241m=\u001b[39m torch\u001b[38;5;241m.\u001b[39mtensor(cluster_centers[cluster_id], device\u001b[38;5;241m=\u001b[39mnew_v_proj\u001b[38;5;241m.\u001b[39mdevice)\n\u001b[1;32m    174\u001b[0m \u001b[38;5;66;03m# Update the model's key and value projection weights\u001b[39;00m\n",
      "\u001b[0;31mRuntimeError\u001b[0m: The expanded size of the tensor (1024) must match the existing size (64) at non-singleton dimension 1.  Target sizes: [64, 1024].  Tensor sizes: [64]"
     ]
    }
   ],
   "source": [
    "import os\n",
    "import time\n",
    "import torch\n",
    "import psutil\n",
    "import numpy as np\n",
    "from tqdm import tqdm\n",
    "from transformers import AutoTokenizer, OPTForCausalLM\n",
    "from sklearn.cluster import KMeans\n",
    "from datasets import load_dataset\n",
    "\n",
    "# Paths and parameters\n",
    "MODEL_NAME = \"facebook/opt-350m\"\n",
    "SAVE_DIR = \"./results\"\n",
    "TOP_LOW_SENSITIVITY_PERCENT = 70  # Focus on the least sensitive 30% layers\n",
    "NUM_CLUSTERS = 37  # Number of clusters for attention heads\n",
    "DEVICE = \"cuda\" if torch.cuda.is_available() else \"cpu\"\n",
    "MAX_SAMPLES = 100  # Limit for dataset size during evaluation\n",
    "\n",
    "os.makedirs(SAVE_DIR, exist_ok=True)\n",
    "\n",
    "# Load model and tokenizer\n",
    "tokenizer = AutoTokenizer.from_pretrained(MODEL_NAME)\n",
    "model = OPTForCausalLM.from_pretrained(MODEL_NAME).to(DEVICE)\n",
    "model.eval()\n",
    "\n",
    "\n",
    "def report_memory():\n",
    "    \"\"\"\n",
    "    Report memory usage in both GPU and CPU contexts.\n",
    "    \"\"\"\n",
    "    memory_report = {}\n",
    "\n",
    "    if torch.cuda.is_available():\n",
    "        memory_report[\"GPU Memory Allocated (MB)\"] = torch.cuda.memory_allocated() / 1e6\n",
    "        memory_report[\"GPU Memory Reserved (MB)\"] = torch.cuda.memory_reserved() / 1e6\n",
    "    else:\n",
    "        memory_report[\"GPU Memory\"] = \"CUDA not available\"\n",
    "\n",
    "    process = psutil.Process()\n",
    "    memory_info = process.memory_info()\n",
    "    memory_report[\"CPU Memory (MB)\"] = memory_info.rss / 1e6\n",
    "\n",
    "    return memory_report\n",
    "\n",
    "\n",
    "def preprocess_data(dataset, max_samples=100, max_length=512):\n",
    "    inputs = []\n",
    "    labels = []\n",
    "\n",
    "    for i, example in enumerate(dataset):\n",
    "        if i >= max_samples:\n",
    "            break\n",
    "        goal = example.get(\"goal\", \"\")\n",
    "        sol1 = example.get(\"sol1\", \"\")\n",
    "        sol2 = example.get(\"sol2\", \"\")\n",
    "        label = example.get(\"label\", None)\n",
    "        text = f\"{goal} {sol1} {sol2}\"\n",
    "        inputs.append(text)\n",
    "        labels.append(label)\n",
    "\n",
    "    tokenized_inputs = tokenizer(\n",
    "        inputs, return_tensors=\"pt\", padding=True, truncation=True, max_length=max_length\n",
    "    )\n",
    "    return tokenized_inputs, labels\n",
    "\n",
    "\n",
    "def compute_sensitivity_scores(model, tokenized_inputs):\n",
    "    num_layers = model.config.num_hidden_layers\n",
    "    num_heads = model.config.num_attention_heads\n",
    "    sensitivity_scores = torch.zeros(num_layers, num_heads, device=DEVICE)\n",
    "\n",
    "    input_ids = tokenized_inputs[\"input_ids\"].to(DEVICE)\n",
    "    attention_mask = tokenized_inputs[\"attention_mask\"].to(DEVICE)\n",
    "\n",
    "    with torch.no_grad():\n",
    "        original_output = model(input_ids, attention_mask=attention_mask).logits\n",
    "\n",
    "    for layer in tqdm(range(num_layers), desc=\"Computing sensitivity scores\"):\n",
    "        for head in range(num_heads):\n",
    "            def hook_fn(module, input, output):\n",
    "                if output.ndim == 4:\n",
    "                    output[:, head, :, :] = 0\n",
    "                elif output.ndim == 3:\n",
    "                    embed_dim = output.size(-1)\n",
    "                    head_dim = embed_dim // num_heads\n",
    "                    start_idx = head * head_dim\n",
    "                    end_idx = (head + 1) * head_dim\n",
    "                    output[:, :, start_idx:end_idx] = 0\n",
    "                else:\n",
    "                    raise ValueError(f\"Unexpected output shape: {output.shape}\")\n",
    "                return output\n",
    "\n",
    "            hook_handle = model.model.decoder.layers[layer].self_attn.out_proj.register_forward_hook(hook_fn)\n",
    "            with torch.no_grad():\n",
    "                perturbed_output = model(input_ids, attention_mask=attention_mask).logits\n",
    "            sensitivity_scores[layer, head] = torch.norm(original_output - perturbed_output, p=2)\n",
    "            hook_handle.remove()\n",
    "\n",
    "    return sensitivity_scores\n",
    "\n",
    "\n",
    "def identify_low_sensitivity_layers(sensitivity_scores, percent=TOP_LOW_SENSITIVITY_PERCENT):\n",
    "    layer_scores = sensitivity_scores.mean(dim=1)\n",
    "    num_layers_to_keep = int(len(layer_scores) * percent / 100)\n",
    "    low_sensitivity_layers = torch.argsort(layer_scores)[:num_layers_to_keep]\n",
    "    return low_sensitivity_layers\n",
    "\n",
    "\n",
    "def extract_attention_keys(model, tokenized_inputs, low_sensitivity_layers):\n",
    "    \"\"\"\n",
    "    Extract attention keys for specified low-sensitivity layers.\n",
    "    \"\"\"\n",
    "    input_ids = tokenized_inputs[\"input_ids\"].to(DEVICE)\n",
    "    attention_mask = tokenized_inputs[\"attention_mask\"].to(DEVICE)\n",
    "    keys = []\n",
    "\n",
    "    def hook_fn(module, input, output):\n",
    "        batch_size, seq_length, embed_dim = output.shape\n",
    "        num_heads = model.config.num_attention_heads\n",
    "        head_dim = embed_dim // num_heads\n",
    "        reshaped_output = output.view(batch_size, seq_length, num_heads, head_dim)\n",
    "        reshaped_output = reshaped_output.permute(0, 2, 1, 3)  # [batch_size, num_heads, seq_length, head_dim]\n",
    "        keys.append(reshaped_output.detach().cpu().numpy())\n",
    "\n",
    "    with torch.no_grad():\n",
    "        for layer in low_sensitivity_layers:\n",
    "            hook_handle = model.model.decoder.layers[layer].self_attn.k_proj.register_forward_hook(hook_fn)\n",
    "            model(input_ids, attention_mask=attention_mask)\n",
    "            hook_handle.remove()\n",
    "\n",
    "    return keys\n",
    "\n",
    "\n",
    "def cluster_attention_heads(keys, num_clusters=NUM_CLUSTERS):\n",
    "    \"\"\"\n",
    "    Cluster attention keys using KMeans.\n",
    "    \"\"\"\n",
    "    reshaped_keys = [key.reshape(-1, key.shape[-1]) for key in keys]  # Flatten batch and sequence dimensions\n",
    "    all_keys = np.concatenate(reshaped_keys, axis=0)  # Concatenate keys across layers\n",
    "    print(f\"Clustering on keys with shape: {all_keys.shape}\")\n",
    "    kmeans = KMeans(n_clusters=num_clusters, random_state=42).fit(all_keys)\n",
    "    return kmeans\n",
    "\n",
    "def optimize_kv_cache_with_clustering(model, low_sensitivity_layers, cluster_centers):\n",
    "    \"\"\"\n",
    "    Replace K-V projection matrices in low-sensitivity layers using cluster centers.\n",
    "    Optimizes memory and computation for low-sensitivity attention heads.\n",
    "    \"\"\"\n",
    "    for layer in low_sensitivity_layers:\n",
    "        # Access the self-attention layer of the BERT model\n",
    "        attention_layer = model.bert.encoder.layer[layer].attention\n",
    "        num_heads = model.config.num_attention_heads\n",
    "        embed_dim = attention_layer.self.key.weight.size(1)  # Full embedding dimension (e.g., 768)\n",
    "        head_dim = embed_dim // num_heads                    # Per-head dimension (e.g., 64)\n",
    "\n",
    "        # Validate cluster centers' shape\n",
    "        assert cluster_centers.shape[1] == head_dim, (\n",
    "            f\"Cluster centers dimension {cluster_centers.shape[1]} does not match head_dim {head_dim}\"\n",
    "        )\n",
    "\n",
    "        # Initialize new projection matrices for key and value projections\n",
    "        new_k_proj = torch.zeros_like(attention_layer.self.key.weight, device=attention_layer.self.key.weight.device)\n",
    "        new_v_proj = torch.zeros_like(attention_layer.self.value.weight, device=attention_layer.self.value.weight.device)\n",
    "\n",
    "        # Distribute cluster centers across heads\n",
    "        cluster_assignments = np.random.randint(0, cluster_centers.shape[0], size=num_heads)  # Random assignment\n",
    "        for head in range(num_heads):\n",
    "            cluster_id = cluster_assignments[head]\n",
    "            start_idx = head * head_dim\n",
    "            end_idx = (head + 1) * head_dim\n",
    "\n",
    "            # Assign cluster center to the slice of the projection matrix\n",
    "            # Expand the cluster center to match the [head_dim, embed_dim] shape\n",
    "            cluster_center = torch.tensor(cluster_centers[cluster_id], device=new_k_proj.device)\n",
    "            new_k_proj[start_idx:end_idx, :] = cluster_center.unsqueeze(1).expand(head_dim, embed_dim)\n",
    "            new_v_proj[start_idx:end_idx, :] = cluster_center.unsqueeze(1).expand(head_dim, embed_dim)\n",
    "\n",
    "        # Update the model's key and value projection weights\n",
    "        with torch.no_grad():\n",
    "            attention_layer.self.key.weight.copy_(new_k_proj)\n",
    "            attention_layer.self.value.weight.copy_(new_v_proj)\n",
    "\n",
    "    return model\n",
    "\n",
    "\n",
    "\n",
    "\n",
    "def evaluate_model(model, tokenized_inputs, labels):\n",
    "    input_ids = tokenized_inputs[\"input_ids\"].to(DEVICE)\n",
    "    attention_mask = tokenized_inputs[\"attention_mask\"].to(DEVICE)\n",
    "\n",
    "    start_time = time.time()\n",
    "    correct = 0\n",
    "\n",
    "    for i in tqdm(range(len(labels)), desc=\"Evaluating model\"):\n",
    "        input_id = input_ids[i].unsqueeze(0)\n",
    "        attention_mask_id = attention_mask[i].unsqueeze(0)\n",
    "\n",
    "        with torch.no_grad():\n",
    "            logits = model(input_id, attention_mask=attention_mask_id).logits\n",
    "\n",
    "        final_token_logits = logits[0, -1, :]\n",
    "        option1_score = final_token_logits[tokenizer.convert_tokens_to_ids(\"1\")].item()\n",
    "        option2_score = final_token_logits[tokenizer.convert_tokens_to_ids(\"2\")].item()\n",
    "\n",
    "        prediction = 0 if option1_score > option2_score else 1\n",
    "        if prediction == labels[i]:\n",
    "            correct += 1\n",
    "\n",
    "    end_time = time.time()\n",
    "    accuracy = correct / len(labels)\n",
    "    inference_time = end_time - start_time\n",
    "    return accuracy, inference_time\n",
    "\n",
    "\n",
    "def main():\n",
    "    dataset = load_dataset(\"piqa\", split=\"validation\")\n",
    "    tokenized_inputs, labels = preprocess_data(dataset, max_samples=MAX_SAMPLES)\n",
    "\n",
    "    initial_memory = report_memory()\n",
    "    print(\"Initial Memory Usage:\", initial_memory)\n",
    "\n",
    "    sensitivity_scores = compute_sensitivity_scores(model, tokenized_inputs)\n",
    "    low_sensitivity_layers = identify_low_sensitivity_layers(sensitivity_scores)\n",
    "\n",
    "    attention_keys = extract_attention_keys(model, tokenized_inputs, low_sensitivity_layers)\n",
    "    kmeans = cluster_attention_heads(attention_keys)\n",
    "    baseline_accuracy, baseline_time = evaluate_model(model, tokenized_inputs, labels)\n",
    "    print(f\"Baseline Accuracy: {baseline_accuracy}, Baseline Time: {baseline_time}\")\n",
    "\n",
    "    clustered_model = optimize_kv_cache_with_clustering(model, low_sensitivity_layers, kmeans.cluster_centers_)\n",
    "\n",
    "    clustered_accuracy, clustered_time = evaluate_model(clustered_model, tokenized_inputs, labels)\n",
    "    clustered_memory = report_memory()\n",
    "\n",
    "    print(f\"Clustered Accuracy: {clustered_accuracy}, Clustered Time: {clustered_time}\")\n",
    "    print(f\"Clustered Memory Usage: {clustered_memory}\")\n",
    "    memory_reduction = initial_memory[\"CPU Memory (MB)\"] - clustered_memory[\"CPU Memory (MB)\"]\n",
    "    print(f\"Memory reduction (CPU): {memory_reduction} MB\")\n",
    "\n",
    "\n",
    "if __name__ == \"__main__\":\n",
    "    main()\n"
   ]
  },
  {
   "cell_type": "code",
   "execution_count": null,
   "id": "008f2619-4c79-49d2-96a0-ee7452814c57",
   "metadata": {},
   "outputs": [],
   "source": []
  },
  {
   "cell_type": "code",
   "execution_count": null,
   "id": "f9d13dff-de8d-4e39-8ba9-5270631a6930",
   "metadata": {},
   "outputs": [],
   "source": []
  }
 ],
 "metadata": {
  "kernelspec": {
   "display_name": "Python 3 (ipykernel)",
   "language": "python",
   "name": "python3"
  },
  "language_info": {
   "codemirror_mode": {
    "name": "ipython",
    "version": 3
   },
   "file_extension": ".py",
   "mimetype": "text/x-python",
   "name": "python",
   "nbconvert_exporter": "python",
   "pygments_lexer": "ipython3",
   "version": "3.11.9"
  }
 },
 "nbformat": 4,
 "nbformat_minor": 5
}
